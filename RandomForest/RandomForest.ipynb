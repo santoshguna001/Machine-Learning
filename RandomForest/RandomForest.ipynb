{
 "cells": [
  {
   "cell_type": "code",
   "execution_count": 7,
   "metadata": {},
   "outputs": [],
   "source": [
    "#importing necessary libraries to run the program\n",
    "import pandas as pd\n",
    "from sklearn.model_selection import train_test_split\n",
    "from sklearn.ensemble import RandomForestClassifier"
   ]
  },
  {
   "cell_type": "code",
   "execution_count": 8,
   "metadata": {},
   "outputs": [
    {
     "name": "stdout",
     "output_type": "stream",
     "text": [
      "             hair    feathers        eggs        milk    airborne     aquatic  \\\n",
      "count  101.000000  101.000000  101.000000  101.000000  101.000000  101.000000   \n",
      "mean     0.425743    0.198020    0.584158    0.405941    0.237624    0.356436   \n",
      "std      0.496921    0.400495    0.495325    0.493522    0.427750    0.481335   \n",
      "min      0.000000    0.000000    0.000000    0.000000    0.000000    0.000000   \n",
      "25%      0.000000    0.000000    0.000000    0.000000    0.000000    0.000000   \n",
      "50%      0.000000    0.000000    1.000000    0.000000    0.000000    0.000000   \n",
      "75%      1.000000    0.000000    1.000000    1.000000    0.000000    1.000000   \n",
      "max      1.000000    1.000000    1.000000    1.000000    1.000000    1.000000   \n",
      "\n",
      "         predator     toothed    backbone    breathes    venomous        fins  \\\n",
      "count  101.000000  101.000000  101.000000  101.000000  101.000000  101.000000   \n",
      "mean     0.554455    0.603960    0.821782    0.792079    0.079208    0.168317   \n",
      "std      0.499505    0.491512    0.384605    0.407844    0.271410    0.376013   \n",
      "min      0.000000    0.000000    0.000000    0.000000    0.000000    0.000000   \n",
      "25%      0.000000    0.000000    1.000000    1.000000    0.000000    0.000000   \n",
      "50%      1.000000    1.000000    1.000000    1.000000    0.000000    0.000000   \n",
      "75%      1.000000    1.000000    1.000000    1.000000    0.000000    0.000000   \n",
      "max      1.000000    1.000000    1.000000    1.000000    1.000000    1.000000   \n",
      "\n",
      "             legs        tail    domestic     catsize  class_type  \n",
      "count  101.000000  101.000000  101.000000  101.000000  101.000000  \n",
      "mean     2.841584    0.742574    0.128713    0.435644    2.831683  \n",
      "std      2.033385    0.439397    0.336552    0.498314    2.102709  \n",
      "min      0.000000    0.000000    0.000000    0.000000    1.000000  \n",
      "25%      2.000000    0.000000    0.000000    0.000000    1.000000  \n",
      "50%      4.000000    1.000000    0.000000    0.000000    2.000000  \n",
      "75%      4.000000    1.000000    0.000000    1.000000    4.000000  \n",
      "max      8.000000    1.000000    1.000000    1.000000    7.000000  \n"
     ]
    }
   ],
   "source": [
    "\n",
    "#load the data and analyze it\n",
    "data=pd.read_csv(\"zoo.csv\")\n",
    "print(data.describe())"
   ]
  },
  {
   "cell_type": "code",
   "execution_count": 9,
   "metadata": {},
   "outputs": [
    {
     "name": "stdout",
     "output_type": "stream",
     "text": [
      "             hair    feathers        eggs        milk    airborne     aquatic  \\\n",
      "count  101.000000  101.000000  101.000000  101.000000  101.000000  101.000000   \n",
      "mean     0.425743    0.198020    0.584158    0.405941    0.237624    0.356436   \n",
      "std      0.496921    0.400495    0.495325    0.493522    0.427750    0.481335   \n",
      "min      0.000000    0.000000    0.000000    0.000000    0.000000    0.000000   \n",
      "25%      0.000000    0.000000    0.000000    0.000000    0.000000    0.000000   \n",
      "50%      0.000000    0.000000    1.000000    0.000000    0.000000    0.000000   \n",
      "75%      1.000000    0.000000    1.000000    1.000000    0.000000    1.000000   \n",
      "max      1.000000    1.000000    1.000000    1.000000    1.000000    1.000000   \n",
      "\n",
      "         predator     toothed    backbone    breathes    venomous        fins  \\\n",
      "count  101.000000  101.000000  101.000000  101.000000  101.000000  101.000000   \n",
      "mean     0.554455    0.603960    0.821782    0.792079    0.079208    0.168317   \n",
      "std      0.499505    0.491512    0.384605    0.407844    0.271410    0.376013   \n",
      "min      0.000000    0.000000    0.000000    0.000000    0.000000    0.000000   \n",
      "25%      0.000000    0.000000    1.000000    1.000000    0.000000    0.000000   \n",
      "50%      1.000000    1.000000    1.000000    1.000000    0.000000    0.000000   \n",
      "75%      1.000000    1.000000    1.000000    1.000000    0.000000    0.000000   \n",
      "max      1.000000    1.000000    1.000000    1.000000    1.000000    1.000000   \n",
      "\n",
      "             legs        tail    domestic     catsize  \n",
      "count  101.000000  101.000000  101.000000  101.000000  \n",
      "mean     2.841584    0.742574    0.128713    0.435644  \n",
      "std      2.033385    0.439397    0.336552    0.498314  \n",
      "min      0.000000    0.000000    0.000000    0.000000  \n",
      "25%      2.000000    0.000000    0.000000    0.000000  \n",
      "50%      4.000000    1.000000    0.000000    0.000000  \n",
      "75%      4.000000    1.000000    0.000000    1.000000  \n",
      "max      8.000000    1.000000    1.000000    1.000000  \n"
     ]
    }
   ],
   "source": [
    "#split the data into features and target variables\n",
    "X=data.iloc[:,1:-1]\n",
    "print(X.describe())\n",
    "Y=data.iloc[:,-1].values.ravel()"
   ]
  },
  {
   "cell_type": "code",
   "execution_count": 10,
   "metadata": {},
   "outputs": [],
   "source": [
    "#split the data into training data and testing data\n",
    "X_train, X_test, Y_train, Y_test = train_test_split(X, Y, random_state=0)\n"
   ]
  },
  {
   "cell_type": "code",
   "execution_count": 11,
   "metadata": {},
   "outputs": [],
   "source": [
    "#fit the training data into the Random Forest Classifier\n",
    "model=RandomForestClassifier().fit(X_train, Y_train)"
   ]
  },
  {
   "cell_type": "code",
   "execution_count": 12,
   "metadata": {},
   "outputs": [],
   "source": [
    "#Provide the testing data for the model\n",
    "predict = model.predict(X_test)"
   ]
  },
  {
   "cell_type": "code",
   "execution_count": 14,
   "metadata": {},
   "outputs": [
    {
     "name": "stdout",
     "output_type": "stream",
     "text": [
      "[5 4 4 1 1 1 2 4 1 1 7 1 2 7 4 6 1 6 2 4 2 3 1 2 1 1]\n",
      "[5 4 4 1 1 1 2 4 1 1 7 1 2 7 4 6 1 6 2 4 2 3 1 2 1 1]\n"
     ]
    }
   ],
   "source": [
    "#Compare the predicted class and the actual class\n",
    "print(predict.ravel())\n",
    "print(Y_test)"
   ]
  },
  {
   "cell_type": "code",
   "execution_count": 15,
   "metadata": {},
   "outputs": [
    {
     "name": "stdout",
     "output_type": "stream",
     "text": [
      "Efficiency is :\n",
      "100.0\n"
     ]
    }
   ],
   "source": [
    "#Computing the efficiecny\n",
    "print(\"Efficiency is :\")\n",
    "count=0\n",
    "for i in range(len(Y_test)):\n",
    "    if(Y_test[i]==predict[i]):\n",
    "        count=count+1\n",
    "        \n",
    "print((count/len(Y_test))*100)"
   ]
  },
  {
   "cell_type": "code",
   "execution_count": null,
   "metadata": {},
   "outputs": [],
   "source": []
  }
 ],
 "metadata": {
  "kernelspec": {
   "display_name": "Python 3",
   "language": "python",
   "name": "python3"
  },
  "language_info": {
   "codemirror_mode": {
    "name": "ipython",
    "version": 3
   },
   "file_extension": ".py",
   "mimetype": "text/x-python",
   "name": "python",
   "nbconvert_exporter": "python",
   "pygments_lexer": "ipython3",
   "version": "3.6.5"
  }
 },
 "nbformat": 4,
 "nbformat_minor": 2
}
